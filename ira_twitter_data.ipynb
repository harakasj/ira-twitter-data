{
 "cells": [
  {
   "cell_type": "code",
   "execution_count": null,
   "metadata": {},
   "outputs": [],
   "source": [
    "import csv\n",
    "import collections\n",
    "import matplotlib\n",
    "import re\n",
    "# %matplotlib inline\n",
    "matplotlib.use('Qt5Agg')\n",
    "import matplotlib.pyplot as plt\n",
    "import numpy as np\n",
    "import pandas as pd\n",
    "from wordcloud import WordCloud, STOPWORDS, ImageColorGenerator\n"
   ]
  },
  {
   "cell_type": "code",
   "execution_count": 2,
   "metadata": {},
   "outputs": [],
   "source": [
    "df = pd.read_pickle('data/ira_tweets.pkl')"
   ]
  },
  {
   "cell_type": "code",
   "execution_count": 5,
   "metadata": {},
   "outputs": [],
   "source": [
    "plt.figure(figsize=(10,8))\n",
    "# ax = pd.DatetimeIndex(df['tweet_time']).normalize().value_counts().plot()\n",
    "# plt.subplot(211)\n",
    "ax=pd.DatetimeIndex(df.loc[df['tweet_language'] == 'en']['tweet_time']).normalize().value_counts().plot(label='English (US)')\n",
    "plt.xlim(pd.Timestamp('2012-01-01'), pd.Timestamp('2018-10-24'))\n",
    "# plt.ylim(0,12000)\n",
    "# plt.legend()\n",
    "# plt.subplot(212)\n",
    "pd.DatetimeIndex(df.loc[df['tweet_language'] == 'ru']['tweet_time']).normalize().value_counts().plot(ax=ax,label='Russian')\n",
    "plt.xlim(pd.Timestamp('2012-01-01'), pd.Timestamp('2018-10-24'))\n",
    "plt.ylim(0,12000)\n",
    "plt.legend()\n",
    "plt.show()"
   ]
  },
  {
   "cell_type": "code",
   "execution_count": null,
   "metadata": {},
   "outputs": [],
   "source": [
    "# Get English tweets\n",
    "en_tweets = df.loc[df['tweet_language'] == 'en']\n",
    "\n",
    "# Clean up tweets\n",
    "en_hashtags = en_tweets.loc[en_tweets['hashtags'] != '[]']['hashtags'].dropna()\n",
    "# en_hashtags = en_hashtags['hashtags'].dropna()\n",
    "en_hashtags = en_hashtags.str.lower().str.strip('[]').str.split(', ')\n",
    "# en_hashtags.value_counts().sort_values(ascending=False)\n"
   ]
  },
  {
   "cell_type": "code",
   "execution_count": null,
   "metadata": {},
   "outputs": [],
   "source": [
    "en_hashtags"
   ]
  },
  {
   "cell_type": "code",
   "execution_count": 6,
   "metadata": {},
   "outputs": [],
   "source": [
    "# Get English tweets\n",
    "en_tweets = df.loc[df['tweet_language'] == 'en']\n",
    "# Clean up tweets, drop NaNs \n",
    "en_hashtags = en_tweets.loc[en_tweets['hashtags'] != '[]']['hashtags'].dropna()\n",
    "# Strip out [] and split em up between whitespace and comma\n",
    "en_hashtags = en_hashtags.str.lower().str.strip('[]').str.split(', ')\n",
    "\n",
    "# Combine into one list \n",
    "htags = [y for x in en_hashtags for y in x]\n",
    "tag_count = collections.Counter()\n",
    "for w in htags:\n",
    "    tag_count[w] += 1\n",
    "\n",
    "wordcloud = WordCloud(width=2000, height=2000)\n",
    "wordcloud.generate_from_frequencies(frequencies=tag_count)\n",
    "plt.figure(figsize=(12,12))\n",
    "plt.imshow(wordcloud, interpolation='bilinear')\n",
    "plt.axis(\"off\")\n",
    "plt.show()"
   ]
  },
  {
   "cell_type": "code",
   "execution_count": null,
   "metadata": {},
   "outputs": [],
   "source": [
    "tag_count.most_common()\n",
    "df.columns"
   ]
  },
  {
   "cell_type": "markdown",
   "metadata": {},
   "source": [
    "## Hashtags embedded in profile description"
   ]
  },
  {
   "cell_type": "code",
   "execution_count": 7,
   "metadata": {},
   "outputs": [],
   "source": [
    "en_profiles = en_tweets.drop_duplicates('userid')\n",
    "profile_string = en_profiles['user_profile_description'].str.lower().str.cat()\n",
    "profile_hashtags = re.findall(r'\\#\\w+', profile_string)\n",
    "\n",
    "tag_count = collections.Counter()\n",
    "for w in profile_hashtags:\n",
    "    tag_count[w] += 1\n",
    "\n",
    "wordcloud = WordCloud(width=2000, height=2000)\n",
    "wordcloud.generate_from_frequencies(frequencies=tag_count)\n",
    "plt.figure(figsize=(12,12))\n",
    "plt.imshow(wordcloud, interpolation='bilinear')\n",
    "plt.axis(\"off\")\n",
    "plt.show()"
   ]
  },
  {
   "cell_type": "code",
   "execution_count": null,
   "metadata": {},
   "outputs": [],
   "source": [
    "import sys\n",
    "\n",
    "# These are the usual ipython objects, including this one you are creating\n",
    "ipython_vars = ['In', 'Out', 'exit', 'quit', 'get_ipython', 'ipython_vars']\n",
    "\n",
    "# Get a sorted list of the objects and their sizes\n",
    "sorted([(x, sys.getsizeof(globals().get(x))) for x in dir() if not x.startswith('_') and x not in sys.modules and x not in ipython_vars], key=lambda x: x[1], reverse=True)\n"
   ]
  },
  {
   "cell_type": "code",
   "execution_count": null,
   "metadata": {},
   "outputs": [],
   "source": [
    "%xdel"
   ]
  }
 ],
 "metadata": {
  "kernelspec": {
   "display_name": "VPython",
   "language": "python",
   "name": "vpython"
  },
  "language_info": {
   "codemirror_mode": {
    "name": "ipython",
    "version": 3
   },
   "file_extension": ".py",
   "mimetype": "text/x-python",
   "name": "python",
   "nbconvert_exporter": "python",
   "pygments_lexer": "ipython3",
   "version": "3.6.3"
  }
 },
 "nbformat": 4,
 "nbformat_minor": 2
}
